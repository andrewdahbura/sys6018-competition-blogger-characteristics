{
 "cells": [
  {
   "cell_type": "code",
   "execution_count": 2,
   "metadata": {},
   "outputs": [
    {
     "data": {
      "text/html": [
       "<div>\n",
       "<style scoped>\n",
       "    .dataframe tbody tr th:only-of-type {\n",
       "        vertical-align: middle;\n",
       "    }\n",
       "\n",
       "    .dataframe tbody tr th {\n",
       "        vertical-align: top;\n",
       "    }\n",
       "\n",
       "    .dataframe thead th {\n",
       "        text-align: right;\n",
       "    }\n",
       "</style>\n",
       "<table border=\"1\" class=\"dataframe\">\n",
       "  <thead>\n",
       "    <tr style=\"text-align: right;\">\n",
       "      <th></th>\n",
       "      <th>post.id</th>\n",
       "      <th>user.id</th>\n",
       "      <th>gender</th>\n",
       "      <th>topic</th>\n",
       "      <th>sign</th>\n",
       "      <th>date</th>\n",
       "      <th>text</th>\n",
       "    </tr>\n",
       "  </thead>\n",
       "  <tbody>\n",
       "    <tr>\n",
       "      <th>0</th>\n",
       "      <td>96</td>\n",
       "      <td>4876</td>\n",
       "      <td>female</td>\n",
       "      <td>indUnk</td>\n",
       "      <td>Capricorn</td>\n",
       "      <td>08,August,2004</td>\n",
       "      <td>urlLink     im new to this, ...</td>\n",
       "    </tr>\n",
       "    <tr>\n",
       "      <th>1</th>\n",
       "      <td>97</td>\n",
       "      <td>4876</td>\n",
       "      <td>female</td>\n",
       "      <td>indUnk</td>\n",
       "      <td>Capricorn</td>\n",
       "      <td>08,August,2004</td>\n",
       "      <td>Election time has rolled aro...</td>\n",
       "    </tr>\n",
       "    <tr>\n",
       "      <th>2</th>\n",
       "      <td>108</td>\n",
       "      <td>12227</td>\n",
       "      <td>female</td>\n",
       "      <td>Student</td>\n",
       "      <td>Aries</td>\n",
       "      <td>31,July,2004</td>\n",
       "      <td>Met Lim this morning, then we...</td>\n",
       "    </tr>\n",
       "    <tr>\n",
       "      <th>3</th>\n",
       "      <td>109</td>\n",
       "      <td>12227</td>\n",
       "      <td>female</td>\n",
       "      <td>Student</td>\n",
       "      <td>Aries</td>\n",
       "      <td>30,July,2004</td>\n",
       "      <td>Such a boring day. I have no ...</td>\n",
       "    </tr>\n",
       "    <tr>\n",
       "      <th>4</th>\n",
       "      <td>110</td>\n",
       "      <td>12227</td>\n",
       "      <td>female</td>\n",
       "      <td>Student</td>\n",
       "      <td>Aries</td>\n",
       "      <td>29,July,2004</td>\n",
       "      <td>Nuts. As usual, Theo and I pl...</td>\n",
       "    </tr>\n",
       "  </tbody>\n",
       "</table>\n",
       "</div>"
      ],
      "text/plain": [
       "   post.id  user.id  gender    topic       sign            date  \\\n",
       "0       96     4876  female   indUnk  Capricorn  08,August,2004   \n",
       "1       97     4876  female   indUnk  Capricorn  08,August,2004   \n",
       "2      108    12227  female  Student      Aries    31,July,2004   \n",
       "3      109    12227  female  Student      Aries    30,July,2004   \n",
       "4      110    12227  female  Student      Aries    29,July,2004   \n",
       "\n",
       "                                                text  \n",
       "0                    urlLink     im new to this, ...  \n",
       "1                    Election time has rolled aro...  \n",
       "2                   Met Lim this morning, then we...  \n",
       "3                   Such a boring day. I have no ...  \n",
       "4                   Nuts. As usual, Theo and I pl...  "
      ]
     },
     "execution_count": 2,
     "metadata": {},
     "output_type": "execute_result"
    }
   ],
   "source": [
    "import pandas as pd\n",
    "\n",
    "\n",
    "test = pd.read_csv(\"test.csv\")\n",
    "\n",
    "#Get initial look at data\n",
    "test.head()"
   ]
  },
  {
   "cell_type": "code",
   "execution_count": 3,
   "metadata": {},
   "outputs": [
    {
     "data": {
      "text/html": [
       "<div>\n",
       "<style scoped>\n",
       "    .dataframe tbody tr th:only-of-type {\n",
       "        vertical-align: middle;\n",
       "    }\n",
       "\n",
       "    .dataframe tbody tr th {\n",
       "        vertical-align: top;\n",
       "    }\n",
       "\n",
       "    .dataframe thead th {\n",
       "        text-align: right;\n",
       "    }\n",
       "</style>\n",
       "<table border=\"1\" class=\"dataframe\">\n",
       "  <thead>\n",
       "    <tr style=\"text-align: right;\">\n",
       "      <th></th>\n",
       "      <th>text</th>\n",
       "      <th>word_count_basic</th>\n",
       "    </tr>\n",
       "  </thead>\n",
       "  <tbody>\n",
       "    <tr>\n",
       "      <th>0</th>\n",
       "      <td>urlLink     im new to this, ...</td>\n",
       "      <td>46</td>\n",
       "    </tr>\n",
       "    <tr>\n",
       "      <th>1</th>\n",
       "      <td>Election time has rolled aro...</td>\n",
       "      <td>831</td>\n",
       "    </tr>\n",
       "    <tr>\n",
       "      <th>2</th>\n",
       "      <td>Met Lim this morning, then we...</td>\n",
       "      <td>142</td>\n",
       "    </tr>\n",
       "    <tr>\n",
       "      <th>3</th>\n",
       "      <td>Such a boring day. I have no ...</td>\n",
       "      <td>66</td>\n",
       "    </tr>\n",
       "    <tr>\n",
       "      <th>4</th>\n",
       "      <td>Nuts. As usual, Theo and I pl...</td>\n",
       "      <td>295</td>\n",
       "    </tr>\n",
       "  </tbody>\n",
       "</table>\n",
       "</div>"
      ],
      "text/plain": [
       "                                                text  word_count_basic\n",
       "0                    urlLink     im new to this, ...                46\n",
       "1                    Election time has rolled aro...               831\n",
       "2                   Met Lim this morning, then we...               142\n",
       "3                   Such a boring day. I have no ...                66\n",
       "4                   Nuts. As usual, Theo and I pl...               295"
      ]
     },
     "execution_count": 3,
     "metadata": {},
     "output_type": "execute_result"
    }
   ],
   "source": [
    "# counting number of words\n",
    "\n",
    "test['word_count_basic'] = test['text'].apply(lambda x: len(str(x).split(\" \")))\n",
    "test[['text','word_count_basic']].head()"
   ]
  },
  {
   "cell_type": "code",
   "execution_count": 4,
   "metadata": {},
   "outputs": [
    {
     "data": {
      "text/html": [
       "<div>\n",
       "<style scoped>\n",
       "    .dataframe tbody tr th:only-of-type {\n",
       "        vertical-align: middle;\n",
       "    }\n",
       "\n",
       "    .dataframe tbody tr th {\n",
       "        vertical-align: top;\n",
       "    }\n",
       "\n",
       "    .dataframe thead th {\n",
       "        text-align: right;\n",
       "    }\n",
       "</style>\n",
       "<table border=\"1\" class=\"dataframe\">\n",
       "  <thead>\n",
       "    <tr style=\"text-align: right;\">\n",
       "      <th></th>\n",
       "      <th>text</th>\n",
       "      <th>char_count_basic</th>\n",
       "    </tr>\n",
       "  </thead>\n",
       "  <tbody>\n",
       "    <tr>\n",
       "      <th>0</th>\n",
       "      <td>urlLink     im new to this, ...</td>\n",
       "      <td>103</td>\n",
       "    </tr>\n",
       "    <tr>\n",
       "      <th>1</th>\n",
       "      <td>Election time has rolled aro...</td>\n",
       "      <td>4646</td>\n",
       "    </tr>\n",
       "    <tr>\n",
       "      <th>2</th>\n",
       "      <td>Met Lim this morning, then we...</td>\n",
       "      <td>705</td>\n",
       "    </tr>\n",
       "    <tr>\n",
       "      <th>3</th>\n",
       "      <td>Such a boring day. I have no ...</td>\n",
       "      <td>223</td>\n",
       "    </tr>\n",
       "    <tr>\n",
       "      <th>4</th>\n",
       "      <td>Nuts. As usual, Theo and I pl...</td>\n",
       "      <td>1512</td>\n",
       "    </tr>\n",
       "  </tbody>\n",
       "</table>\n",
       "</div>"
      ],
      "text/plain": [
       "                                                text  char_count_basic\n",
       "0                    urlLink     im new to this, ...               103\n",
       "1                    Election time has rolled aro...              4646\n",
       "2                   Met Lim this morning, then we...               705\n",
       "3                   Such a boring day. I have no ...               223\n",
       "4                   Nuts. As usual, Theo and I pl...              1512"
      ]
     },
     "execution_count": 4,
     "metadata": {},
     "output_type": "execute_result"
    }
   ],
   "source": [
    "# counting number of characters\n",
    "\n",
    "test['char_count_basic'] = test['text'].str.len() ## this also includes spaces\n",
    "test[['text','char_count_basic']].head()"
   ]
  },
  {
   "cell_type": "code",
   "execution_count": 5,
   "metadata": {},
   "outputs": [
    {
     "data": {
      "text/html": [
       "<div>\n",
       "<style scoped>\n",
       "    .dataframe tbody tr th:only-of-type {\n",
       "        vertical-align: middle;\n",
       "    }\n",
       "\n",
       "    .dataframe tbody tr th {\n",
       "        vertical-align: top;\n",
       "    }\n",
       "\n",
       "    .dataframe thead th {\n",
       "        text-align: right;\n",
       "    }\n",
       "</style>\n",
       "<table border=\"1\" class=\"dataframe\">\n",
       "  <thead>\n",
       "    <tr style=\"text-align: right;\">\n",
       "      <th></th>\n",
       "      <th>text</th>\n",
       "      <th>avg_word_basic</th>\n",
       "    </tr>\n",
       "  </thead>\n",
       "  <tbody>\n",
       "    <tr>\n",
       "      <th>0</th>\n",
       "      <td>urlLink     im new to this, ...</td>\n",
       "      <td>1.260870</td>\n",
       "    </tr>\n",
       "    <tr>\n",
       "      <th>1</th>\n",
       "      <td>Election time has rolled aro...</td>\n",
       "      <td>4.592058</td>\n",
       "    </tr>\n",
       "    <tr>\n",
       "      <th>2</th>\n",
       "      <td>Met Lim this morning, then we...</td>\n",
       "      <td>3.971831</td>\n",
       "    </tr>\n",
       "    <tr>\n",
       "      <th>3</th>\n",
       "      <td>Such a boring day. I have no ...</td>\n",
       "      <td>2.393939</td>\n",
       "    </tr>\n",
       "    <tr>\n",
       "      <th>4</th>\n",
       "      <td>Nuts. As usual, Theo and I pl...</td>\n",
       "      <td>4.128814</td>\n",
       "    </tr>\n",
       "  </tbody>\n",
       "</table>\n",
       "</div>"
      ],
      "text/plain": [
       "                                                text  avg_word_basic\n",
       "0                    urlLink     im new to this, ...        1.260870\n",
       "1                    Election time has rolled aro...        4.592058\n",
       "2                   Met Lim this morning, then we...        3.971831\n",
       "3                   Such a boring day. I have no ...        2.393939\n",
       "4                   Nuts. As usual, Theo and I pl...        4.128814"
      ]
     },
     "execution_count": 5,
     "metadata": {},
     "output_type": "execute_result"
    }
   ],
   "source": [
    "# counting average word length\n",
    "\n",
    "test['avg_word_basic'] = (test.char_count_basic-test.word_count_basic+1)/test.word_count_basic\n",
    "test[['text','avg_word_basic']].head()"
   ]
  },
  {
   "cell_type": "code",
   "execution_count": 6,
   "metadata": {},
   "outputs": [
    {
     "data": {
      "text/html": [
       "<div>\n",
       "<style scoped>\n",
       "    .dataframe tbody tr th:only-of-type {\n",
       "        vertical-align: middle;\n",
       "    }\n",
       "\n",
       "    .dataframe tbody tr th {\n",
       "        vertical-align: top;\n",
       "    }\n",
       "\n",
       "    .dataframe thead th {\n",
       "        text-align: right;\n",
       "    }\n",
       "</style>\n",
       "<table border=\"1\" class=\"dataframe\">\n",
       "  <thead>\n",
       "    <tr style=\"text-align: right;\">\n",
       "      <th></th>\n",
       "      <th>text</th>\n",
       "      <th>stopwords_basic</th>\n",
       "    </tr>\n",
       "  </thead>\n",
       "  <tbody>\n",
       "    <tr>\n",
       "      <th>0</th>\n",
       "      <td>urlLink     im new to this, ...</td>\n",
       "      <td>6</td>\n",
       "    </tr>\n",
       "    <tr>\n",
       "      <th>1</th>\n",
       "      <td>Election time has rolled aro...</td>\n",
       "      <td>316</td>\n",
       "    </tr>\n",
       "    <tr>\n",
       "      <th>2</th>\n",
       "      <td>Met Lim this morning, then we...</td>\n",
       "      <td>41</td>\n",
       "    </tr>\n",
       "    <tr>\n",
       "      <th>3</th>\n",
       "      <td>Such a boring day. I have no ...</td>\n",
       "      <td>16</td>\n",
       "    </tr>\n",
       "    <tr>\n",
       "      <th>4</th>\n",
       "      <td>Nuts. As usual, Theo and I pl...</td>\n",
       "      <td>82</td>\n",
       "    </tr>\n",
       "  </tbody>\n",
       "</table>\n",
       "</div>"
      ],
      "text/plain": [
       "                                                text  stopwords_basic\n",
       "0                    urlLink     im new to this, ...                6\n",
       "1                    Election time has rolled aro...              316\n",
       "2                   Met Lim this morning, then we...               41\n",
       "3                   Such a boring day. I have no ...               16\n",
       "4                   Nuts. As usual, Theo and I pl...               82"
      ]
     },
     "execution_count": 6,
     "metadata": {},
     "output_type": "execute_result"
    }
   ],
   "source": [
    "# counting number of stopwords\n",
    "from nltk.corpus import stopwords\n",
    "\n",
    "stop = stopwords.words('english')\n",
    "\n",
    "test['stopwords_basic'] = test['text'].apply(lambda x: len([x for x in x.split() if x in stop]))\n",
    "test[['text','stopwords_basic']].head()"
   ]
  },
  {
   "cell_type": "code",
   "execution_count": 7,
   "metadata": {},
   "outputs": [
    {
     "data": {
      "text/html": [
       "<div>\n",
       "<style scoped>\n",
       "    .dataframe tbody tr th:only-of-type {\n",
       "        vertical-align: middle;\n",
       "    }\n",
       "\n",
       "    .dataframe tbody tr th {\n",
       "        vertical-align: top;\n",
       "    }\n",
       "\n",
       "    .dataframe thead th {\n",
       "        text-align: right;\n",
       "    }\n",
       "</style>\n",
       "<table border=\"1\" class=\"dataframe\">\n",
       "  <thead>\n",
       "    <tr style=\"text-align: right;\">\n",
       "      <th></th>\n",
       "      <th>text</th>\n",
       "      <th>number_count_basic</th>\n",
       "    </tr>\n",
       "  </thead>\n",
       "  <tbody>\n",
       "    <tr>\n",
       "      <th>0</th>\n",
       "      <td>urlLink     im new to this, ...</td>\n",
       "      <td>0</td>\n",
       "    </tr>\n",
       "    <tr>\n",
       "      <th>1</th>\n",
       "      <td>Election time has rolled aro...</td>\n",
       "      <td>1</td>\n",
       "    </tr>\n",
       "    <tr>\n",
       "      <th>2</th>\n",
       "      <td>Met Lim this morning, then we...</td>\n",
       "      <td>0</td>\n",
       "    </tr>\n",
       "    <tr>\n",
       "      <th>3</th>\n",
       "      <td>Such a boring day. I have no ...</td>\n",
       "      <td>0</td>\n",
       "    </tr>\n",
       "    <tr>\n",
       "      <th>4</th>\n",
       "      <td>Nuts. As usual, Theo and I pl...</td>\n",
       "      <td>0</td>\n",
       "    </tr>\n",
       "  </tbody>\n",
       "</table>\n",
       "</div>"
      ],
      "text/plain": [
       "                                                text  number_count_basic\n",
       "0                    urlLink     im new to this, ...                   0\n",
       "1                    Election time has rolled aro...                   1\n",
       "2                   Met Lim this morning, then we...                   0\n",
       "3                   Such a boring day. I have no ...                   0\n",
       "4                   Nuts. As usual, Theo and I pl...                   0"
      ]
     },
     "execution_count": 7,
     "metadata": {},
     "output_type": "execute_result"
    }
   ],
   "source": [
    "# counting number count\n",
    "\n",
    "test['number_count_basic'] = test['text'].apply(lambda x: len([x for x in x.split() if x.isdigit()]))\n",
    "test[['text','number_count_basic']].head()"
   ]
  },
  {
   "cell_type": "code",
   "execution_count": 8,
   "metadata": {},
   "outputs": [
    {
     "data": {
      "text/html": [
       "<div>\n",
       "<style scoped>\n",
       "    .dataframe tbody tr th:only-of-type {\n",
       "        vertical-align: middle;\n",
       "    }\n",
       "\n",
       "    .dataframe tbody tr th {\n",
       "        vertical-align: top;\n",
       "    }\n",
       "\n",
       "    .dataframe thead th {\n",
       "        text-align: right;\n",
       "    }\n",
       "</style>\n",
       "<table border=\"1\" class=\"dataframe\">\n",
       "  <thead>\n",
       "    <tr style=\"text-align: right;\">\n",
       "      <th></th>\n",
       "      <th>text</th>\n",
       "      <th>special_character_basic</th>\n",
       "    </tr>\n",
       "  </thead>\n",
       "  <tbody>\n",
       "    <tr>\n",
       "      <th>0</th>\n",
       "      <td>urlLink     im new to this, ...</td>\n",
       "      <td>3</td>\n",
       "    </tr>\n",
       "    <tr>\n",
       "      <th>1</th>\n",
       "      <td>Election time has rolled aro...</td>\n",
       "      <td>169</td>\n",
       "    </tr>\n",
       "    <tr>\n",
       "      <th>2</th>\n",
       "      <td>Met Lim this morning, then we...</td>\n",
       "      <td>32</td>\n",
       "    </tr>\n",
       "    <tr>\n",
       "      <th>3</th>\n",
       "      <td>Such a boring day. I have no ...</td>\n",
       "      <td>8</td>\n",
       "    </tr>\n",
       "    <tr>\n",
       "      <th>4</th>\n",
       "      <td>Nuts. As usual, Theo and I pl...</td>\n",
       "      <td>79</td>\n",
       "    </tr>\n",
       "  </tbody>\n",
       "</table>\n",
       "</div>"
      ],
      "text/plain": [
       "                                                text  special_character_basic\n",
       "0                    urlLink     im new to this, ...                        3\n",
       "1                    Election time has rolled aro...                      169\n",
       "2                   Met Lim this morning, then we...                       32\n",
       "3                   Such a boring day. I have no ...                        8\n",
       "4                   Nuts. As usual, Theo and I pl...                       79"
      ]
     },
     "execution_count": 8,
     "metadata": {},
     "output_type": "execute_result"
    }
   ],
   "source": [
    "# counting special characters\n",
    "\n",
    "def countSpecialChar(str): \n",
    "  \n",
    "    # initializing variables (initial count)\n",
    "    char = 0\n",
    "    specialChar = 0\n",
    "    digit = 0\n",
    "    space = 0\n",
    "  \n",
    "    # str.length() function to count  \n",
    "    # number of character in given string. \n",
    "    for i in range(0, len(str)):  \n",
    "          \n",
    "        ch = str[i]\n",
    "          \n",
    "        if ( (ch >= 'a' and ch <= 'z') or \n",
    "             (ch >= 'A' and ch <= 'Z') ):  \n",
    "            char += 1\n",
    "            \n",
    "        elif (ch >= '0' and ch <= '9'): \n",
    "            digit += 1\n",
    "        elif (ch == ' '):\n",
    "            space += 1\n",
    "        else: \n",
    "            specialChar += 1\n",
    "    return (specialChar)\n",
    "\n",
    "test['special_character_basic'] = test['text'].apply(countSpecialChar)\n",
    "test[['text','special_character_basic']].head()"
   ]
  },
  {
   "cell_type": "code",
   "execution_count": 9,
   "metadata": {},
   "outputs": [
    {
     "data": {
      "text/html": [
       "<div>\n",
       "<style scoped>\n",
       "    .dataframe tbody tr th:only-of-type {\n",
       "        vertical-align: middle;\n",
       "    }\n",
       "\n",
       "    .dataframe tbody tr th {\n",
       "        vertical-align: top;\n",
       "    }\n",
       "\n",
       "    .dataframe thead th {\n",
       "        text-align: right;\n",
       "    }\n",
       "</style>\n",
       "<table border=\"1\" class=\"dataframe\">\n",
       "  <thead>\n",
       "    <tr style=\"text-align: right;\">\n",
       "      <th></th>\n",
       "      <th>text</th>\n",
       "      <th>upper_count_basic</th>\n",
       "    </tr>\n",
       "  </thead>\n",
       "  <tbody>\n",
       "    <tr>\n",
       "      <th>0</th>\n",
       "      <td>urlLink     im new to this, ...</td>\n",
       "      <td>1</td>\n",
       "    </tr>\n",
       "    <tr>\n",
       "      <th>1</th>\n",
       "      <td>Election time has rolled aro...</td>\n",
       "      <td>18</td>\n",
       "    </tr>\n",
       "    <tr>\n",
       "      <th>2</th>\n",
       "      <td>Met Lim this morning, then we...</td>\n",
       "      <td>8</td>\n",
       "    </tr>\n",
       "    <tr>\n",
       "      <th>3</th>\n",
       "      <td>Such a boring day. I have no ...</td>\n",
       "      <td>4</td>\n",
       "    </tr>\n",
       "    <tr>\n",
       "      <th>4</th>\n",
       "      <td>Nuts. As usual, Theo and I pl...</td>\n",
       "      <td>11</td>\n",
       "    </tr>\n",
       "  </tbody>\n",
       "</table>\n",
       "</div>"
      ],
      "text/plain": [
       "                                                text  upper_count_basic\n",
       "0                    urlLink     im new to this, ...                  1\n",
       "1                    Election time has rolled aro...                 18\n",
       "2                   Met Lim this morning, then we...                  8\n",
       "3                   Such a boring day. I have no ...                  4\n",
       "4                   Nuts. As usual, Theo and I pl...                 11"
      ]
     },
     "execution_count": 9,
     "metadata": {},
     "output_type": "execute_result"
    }
   ],
   "source": [
    "# counting upper case letters\n",
    "\n",
    "test['upper_count_basic'] = test['text'].apply(lambda x: len([x for x in x.split() if x.isupper()]))\n",
    "test[['text','upper_count_basic']].head()"
   ]
  },
  {
   "cell_type": "code",
   "execution_count": null,
   "metadata": {},
   "outputs": [],
   "source": [
    "# counting misspelt words\n",
    "\n",
    "test['text_new'] = test['text'].str.replace('[^\\w\\s]','')\n",
    "test['text_new'] = test['text_new'].apply(lambda x: x.strip())\n",
    "test['words'] = test['text_new'].str.split(\" \")\n",
    "\n",
    "from spellchecker import SpellChecker\n",
    "\n",
    "spell = SpellChecker()\n",
    "\n",
    "test['misspelt_count_basic'] = test['words'].apply(lambda x: len([i for i in x if spell.unknown(i)]))"
   ]
  },
  {
   "cell_type": "code",
   "execution_count": null,
   "metadata": {},
   "outputs": [],
   "source": [
    "# counting proportion stopword, special, number, upper, word length\n",
    "\n",
    "test['stopword_ratio'] = test.stopwords_basic/test.word_count_basic\n",
    "test['special_ratio'] = test.special_character_basic/test.word_count_basic\n",
    "test['number_ratio'] = test.number_count_basic/test.word_count_basic\n",
    "test['upper_ratio'] = test.misspelt_count_basic/test.word_count_basic\n",
    "test['misspelt_ratio'] = train.misspelt_count_basic/train.word_count_basic\n",
    "\n",
    "test = test.drop(['char_count_basic', 'stopwords_basic', 'number_count_basic', 'upper_count_basic', 'text_new', 'words'], axis=1)"
   ]
  },
  {
   "cell_type": "code",
   "execution_count": null,
   "metadata": {},
   "outputs": [],
   "source": [
    "#lowercase\n",
    "test['text'] = test['text'].apply(lambda x: \" \".join(x.lower() for x in x.split()))\n",
    "test['text'].head()\n",
    "\n",
    "#remove punctuation\n",
    "test['text'] = test['text'].str.replace('[^\\w\\s]','')\n",
    "test['word_count2'] = test['text'].apply(lambda x: len(str(x).split(\" \")))\n",
    "test['text'].head()\n",
    "\n",
    "#remove stop words\n",
    "from nltk.corpus import stopwords\n",
    "stop = stopwords.words('english')\n",
    "test['text'] = test['text'].apply(lambda x: \" \".join(x for x in x.split() if x not in stop))\n",
    "test['word_count3'] = test['text'].apply(lambda x: len(str(x).split(\" \")))\n",
    "test['text'].head()\n",
    "\n",
    "freq = pd.Series(' '.join(test['text']).split()).value_counts()[-10:]"
   ]
  },
  {
   "cell_type": "code",
   "execution_count": 3,
   "metadata": {},
   "outputs": [
    {
     "data": {
      "text/plain": [
       "0          urllink im new tell god create links column\n",
       "1    election time rolled around everyone spitting ...\n",
       "2    met lim morning went spc get help raymondmaths...\n",
       "3    boring day comments found im shortest girl cla...\n",
       "4    nuts usual theo played food todays creation co...\n",
       "Name: text, dtype: object"
      ]
     },
     "execution_count": 3,
     "metadata": {},
     "output_type": "execute_result"
    }
   ],
   "source": [
    "#remove uncommon words\n",
    "freq = list(freq.index)\n",
    "test['text'] = test['text'].apply(lambda x: \" \".join(x for x in x.split() if x not in freq))\n",
    "test['text'].head()\n",
    "\n"
   ]
  },
  {
   "cell_type": "code",
   "execution_count": 4,
   "metadata": {},
   "outputs": [
    {
     "data": {
      "text/plain": [
       "0                     new tell god create links column\n",
       "1    election rolled around everyone spitting venom...\n",
       "2    met lim morning went spc help raymondmathsno c...\n",
       "3    boring day comments found shortest girl class ...\n",
       "4    nuts usual theo played food todays creation co...\n",
       "Name: text, dtype: object"
      ]
     },
     "execution_count": 4,
     "metadata": {},
     "output_type": "execute_result"
    }
   ],
   "source": [
    "###remove common words###\n",
    "freq = pd.Series(' '.join(test['text']).split()).value_counts()[:10]\n",
    "freq = list(freq.index)\n",
    "test['text'] = test['text'].apply(lambda x: \" \".join(x for x in x.split() if x not in freq))\n",
    "#Visualize\n",
    "test['text'].head()\n",
    "\n"
   ]
  },
  {
   "cell_type": "code",
   "execution_count": 5,
   "metadata": {},
   "outputs": [
    {
     "data": {
      "text/plain": [
       "0                     new tell god create links column\n",
       "1    election rolled around everyone spitting venom...\n",
       "2    met lim morning went spc help raymondmathsno c...\n",
       "3    boring day comments found shortest girl class ...\n",
       "4    nuts usual theo played food todays creation co...\n",
       "Name: text, dtype: object"
      ]
     },
     "execution_count": 5,
     "metadata": {},
     "output_type": "execute_result"
    }
   ],
   "source": [
    "###Remove rare words###\n",
    "freq = pd.Series(' '.join(test['text']).split()).value_counts()[-10:]\n",
    "freq = list(freq.index)\n",
    "test['text'] = test['text'].apply(lambda x: \" \".join(x for x in x.split() if x not in freq))\n",
    "#Visualize\n",
    "test['text'].head()"
   ]
  },
  {
   "cell_type": "code",
   "execution_count": 6,
   "metadata": {},
   "outputs": [
    {
     "data": {
      "text/plain": [
       "0                      new tell god create link column\n",
       "1    election rolled around everyone spitting venom...\n",
       "2    met lim morning went spc help raymondmathsno c...\n",
       "3    boring day comment found shortest girl class h...\n",
       "4    nut usual theo played food today creation cons...\n",
       "Name: text, dtype: object"
      ]
     },
     "execution_count": 6,
     "metadata": {},
     "output_type": "execute_result"
    }
   ],
   "source": [
    "###Spelling correction###\n",
    "from textblob import TextBlob\n",
    "test['text'][:5].apply(lambda x: str(TextBlob(x).correct()))\n",
    "\n",
    "###Tokenization (dividing the text into a sequence of words or sentences)###\n",
    "TextBlob(test['text'][1]).words\n",
    "\n",
    "#Stemming (removal of suffices, like “ing”, “ly”, “s”, etc. by a simple rule-based approach)\n",
    "#from nltk.stem import PorterStemmer\n",
    "#st = PorterStemmer()\n",
    "#test['text'][:5].apply(lambda x: \" \".join([st.stem(word) for word in x.split()]))\n",
    "\n",
    "#Lemmatization (more effective option than stemming because \n",
    "# converts the word into its root word, rather than just stripping the suffices)\n",
    "#*Preferred to stemming*#\n",
    "\n",
    "from textblob import Word\n",
    "test['text'] = test['text'].apply(lambda x: \" \".join([Word(word).lemmatize() for word in x.split()]))\n",
    "test['text'].head()"
   ]
  },
  {
   "cell_type": "code",
   "execution_count": 7,
   "metadata": {},
   "outputs": [],
   "source": [
    "sentiment = test['text'].apply(lambda x: TextBlob(x).sentiment[0])"
   ]
  },
  {
   "cell_type": "code",
   "execution_count": 9,
   "metadata": {},
   "outputs": [],
   "source": [
    "test['sentiment'] = sentiment"
   ]
  },
  {
   "cell_type": "code",
   "execution_count": 10,
   "metadata": {},
   "outputs": [],
   "source": [
    "test = pd.get_dummies(test, columns=['gender', 'topic'])"
   ]
  },
  {
   "cell_type": "code",
   "execution_count": 13,
   "metadata": {},
   "outputs": [],
   "source": [
    "testdropped = test.drop(['post.id', 'sign', 'date', 'text'], axis=1)"
   ]
  },
  {
   "cell_type": "code",
   "execution_count": 16,
   "metadata": {},
   "outputs": [],
   "source": [
    "testdropped.to_csv(\"testclean.csv\")"
   ]
  },
  {
   "cell_type": "code",
   "execution_count": null,
   "metadata": {},
   "outputs": [],
   "source": []
  }
 ],
 "metadata": {
  "kernelspec": {
   "display_name": "Python 3",
   "language": "python",
   "name": "python3"
  },
  "language_info": {
   "codemirror_mode": {
    "name": "ipython",
    "version": 3
   },
   "file_extension": ".py",
   "mimetype": "text/x-python",
   "name": "python",
   "nbconvert_exporter": "python",
   "pygments_lexer": "ipython3",
   "version": "3.6.5"
  }
 },
 "nbformat": 4,
 "nbformat_minor": 2
}
