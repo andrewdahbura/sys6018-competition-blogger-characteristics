{
 "cells": [
  {
   "cell_type": "code",
   "execution_count": 2,
   "metadata": {},
   "outputs": [],
   "source": [
    "import pandas as pd\n",
    "\n",
    "\n",
    "test = pd.read_csv(\"test.csv\")\n",
    "\n",
    "#Get initial look at data\n",
    "test.head()\n",
    "\n",
    "#lowercase\n",
    "test['text'] = test['text'].apply(lambda x: \" \".join(x.lower() for x in x.split()))\n",
    "test['text'].head()\n",
    "\n",
    "#remove punctuation\n",
    "test['text'] = test['text'].str.replace('[^\\w\\s]','')\n",
    "test['word_count2'] = test['text'].apply(lambda x: len(str(x).split(\" \")))\n",
    "test['text'].head()\n",
    "\n",
    "#remove stop words\n",
    "from nltk.corpus import stopwords\n",
    "stop = stopwords.words('english')\n",
    "test['text'] = test['text'].apply(lambda x: \" \".join(x for x in x.split() if x not in stop))\n",
    "test['word_count3'] = test['text'].apply(lambda x: len(str(x).split(\" \")))\n",
    "test['text'].head()\n",
    "\n",
    "freq = pd.Series(' '.join(test['text']).split()).value_counts()[-10:]\n",
    "\n"
   ]
  },
  {
   "cell_type": "code",
   "execution_count": 3,
   "metadata": {},
   "outputs": [
    {
     "data": {
      "text/plain": [
       "0          urllink im new tell god create links column\n",
       "1    election time rolled around everyone spitting ...\n",
       "2    met lim morning went spc get help raymondmaths...\n",
       "3    boring day comments found im shortest girl cla...\n",
       "4    nuts usual theo played food todays creation co...\n",
       "Name: text, dtype: object"
      ]
     },
     "execution_count": 3,
     "metadata": {},
     "output_type": "execute_result"
    }
   ],
   "source": [
    "#remove uncommon words\n",
    "freq = list(freq.index)\n",
    "test['text'] = test['text'].apply(lambda x: \" \".join(x for x in x.split() if x not in freq))\n",
    "test['text'].head()\n",
    "\n"
   ]
  },
  {
   "cell_type": "code",
   "execution_count": 4,
   "metadata": {},
   "outputs": [
    {
     "data": {
      "text/plain": [
       "0                     new tell god create links column\n",
       "1    election rolled around everyone spitting venom...\n",
       "2    met lim morning went spc help raymondmathsno c...\n",
       "3    boring day comments found shortest girl class ...\n",
       "4    nuts usual theo played food todays creation co...\n",
       "Name: text, dtype: object"
      ]
     },
     "execution_count": 4,
     "metadata": {},
     "output_type": "execute_result"
    }
   ],
   "source": [
    "###remove common words###\n",
    "freq = pd.Series(' '.join(test['text']).split()).value_counts()[:10]\n",
    "freq = list(freq.index)\n",
    "test['text'] = test['text'].apply(lambda x: \" \".join(x for x in x.split() if x not in freq))\n",
    "#Visualize\n",
    "test['text'].head()\n",
    "\n"
   ]
  },
  {
   "cell_type": "code",
   "execution_count": 5,
   "metadata": {},
   "outputs": [
    {
     "data": {
      "text/plain": [
       "0                     new tell god create links column\n",
       "1    election rolled around everyone spitting venom...\n",
       "2    met lim morning went spc help raymondmathsno c...\n",
       "3    boring day comments found shortest girl class ...\n",
       "4    nuts usual theo played food todays creation co...\n",
       "Name: text, dtype: object"
      ]
     },
     "execution_count": 5,
     "metadata": {},
     "output_type": "execute_result"
    }
   ],
   "source": [
    "###Remove rare words###\n",
    "freq = pd.Series(' '.join(test['text']).split()).value_counts()[-10:]\n",
    "freq = list(freq.index)\n",
    "test['text'] = test['text'].apply(lambda x: \" \".join(x for x in x.split() if x not in freq))\n",
    "#Visualize\n",
    "test['text'].head()\n",
    "\n"
   ]
  },
  {
   "cell_type": "code",
   "execution_count": 6,
   "metadata": {},
   "outputs": [
    {
     "data": {
      "text/plain": [
       "0                      new tell god create link column\n",
       "1    election rolled around everyone spitting venom...\n",
       "2    met lim morning went spc help raymondmathsno c...\n",
       "3    boring day comment found shortest girl class h...\n",
       "4    nut usual theo played food today creation cons...\n",
       "Name: text, dtype: object"
      ]
     },
     "execution_count": 6,
     "metadata": {},
     "output_type": "execute_result"
    }
   ],
   "source": [
    "###Spelling correction###\n",
    "from textblob import TextBlob\n",
    "test['text'][:5].apply(lambda x: str(TextBlob(x).correct()))\n",
    "\n",
    "###Tokenization (dividing the text into a sequence of words or sentences)###\n",
    "TextBlob(test['text'][1]).words\n",
    "\n",
    "#Stemming (removal of suffices, like “ing”, “ly”, “s”, etc. by a simple rule-based approach)\n",
    "#from nltk.stem import PorterStemmer\n",
    "#st = PorterStemmer()\n",
    "#test['text'][:5].apply(lambda x: \" \".join([st.stem(word) for word in x.split()]))\n",
    "\n",
    "#Lemmatization (more effective option than stemming because \n",
    "# converts the word into its root word, rather than just stripping the suffices)\n",
    "#*Preferred to stemming*#\n",
    "\n",
    "from textblob import Word\n",
    "test['text'] = test['text'].apply(lambda x: \" \".join([Word(word).lemmatize() for word in x.split()]))\n",
    "test['text'].head()"
   ]
  },
  {
   "cell_type": "code",
   "execution_count": 7,
   "metadata": {},
   "outputs": [],
   "source": [
    "sentiment = test['text'].apply(lambda x: TextBlob(x).sentiment[0])"
   ]
  },
  {
   "cell_type": "code",
   "execution_count": 9,
   "metadata": {},
   "outputs": [],
   "source": [
    "test['sentiment'] = sentiment"
   ]
  },
  {
   "cell_type": "code",
   "execution_count": 10,
   "metadata": {},
   "outputs": [],
   "source": [
    "test = pd.get_dummies(test, columns=['gender', 'topic'])"
   ]
  },
  {
   "cell_type": "code",
   "execution_count": 13,
   "metadata": {},
   "outputs": [],
   "source": [
    "testdropped = test.drop(['post.id', 'sign', 'date', 'text'], axis=1)"
   ]
  },
  {
   "cell_type": "code",
   "execution_count": 16,
   "metadata": {},
   "outputs": [],
   "source": [
    "testdropped.to_csv(\"testclean.csv\")"
   ]
  },
  {
   "cell_type": "code",
   "execution_count": null,
   "metadata": {},
   "outputs": [],
   "source": []
  }
 ],
 "metadata": {
  "kernelspec": {
   "display_name": "Python 3",
   "language": "python",
   "name": "python3"
  },
  "language_info": {
   "codemirror_mode": {
    "name": "ipython",
    "version": 3
   },
   "file_extension": ".py",
   "mimetype": "text/x-python",
   "name": "python",
   "nbconvert_exporter": "python",
   "pygments_lexer": "ipython3",
   "version": "3.6.5"
  }
 },
 "nbformat": 4,
 "nbformat_minor": 2
}
